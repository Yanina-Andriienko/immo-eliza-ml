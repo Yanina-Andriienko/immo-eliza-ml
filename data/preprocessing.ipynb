{
 "cells": [
  {
   "cell_type": "markdown",
   "metadata": {},
   "source": [
    "### Importing:"
   ]
  },
  {
   "cell_type": "code",
   "execution_count": null,
   "metadata": {},
   "outputs": [],
   "source": []
  },
  {
   "cell_type": "code",
   "execution_count": 112,
   "metadata": {},
   "outputs": [],
   "source": [
    "import pandas as pd\n",
    "from sklearn.impute import SimpleImputer\n",
    "from sklearn.preprocessing import OneHotEncoder\n",
    "import numpy as np\n",
    "import seaborn as sns\n",
    "\n",
    "# Load the dataset\n",
    "df = pd.read_csv('Cleaned_2.csv')\n",
    "\n",
    "\n"
   ]
  },
  {
   "cell_type": "markdown",
   "metadata": {},
   "source": [
    "### Data exploration:"
   ]
  },
  {
   "cell_type": "code",
   "execution_count": 113,
   "metadata": {},
   "outputs": [
    {
     "data": {
      "text/plain": [
       "(30554, 27)"
      ]
     },
     "execution_count": 113,
     "metadata": {},
     "output_type": "execute_result"
    }
   ],
   "source": [
    "df.shape"
   ]
  },
  {
   "cell_type": "code",
   "execution_count": 114,
   "metadata": {},
   "outputs": [
    {
     "name": "stdout",
     "output_type": "stream",
     "text": [
      "        id           city  postal_code  district       province     price  \\\n",
      "0  1882546       wenduine         8420   oostend  west flanders  163000.0   \n",
      "1  2784938  heist-aan-zee         8301    brugge  west flanders  108000.0   \n",
      "2  6675519       zonhoven         3520   hasselt        limburg  392422.0   \n",
      "3  7066131        bredene         8450   oostend  west flanders  245000.0   \n",
      "4  7222190           geel         2440  turnhout        antwerp  335527.0   \n",
      "\n",
      "    subtype state_construction  living_area  terrace_area  ...  has_garden  \\\n",
      "0    CHALET             AS_NEW         62.0           NaN  ...         1.0   \n",
      "1  BUNGALOW             AS_NEW         51.0           NaN  ...         1.0   \n",
      "2     HOUSE                NaN        206.0           NaN  ...         1.0   \n",
      "3     HOUSE             AS_NEW         76.0           NaN  ...         1.0   \n",
      "4     HOUSE                NaN        160.0           NaN  ...         NaN   \n",
      "\n",
      "   kitchen  fireplace  swimmingpool  has_terrace  has_attic  has_basement  \\\n",
      "0      1.0        NaN           NaN          NaN        NaN           NaN   \n",
      "1      1.0        NaN           NaN          NaN        NaN           NaN   \n",
      "2      1.0        NaN           NaN          NaN        NaN           NaN   \n",
      "3      1.0        NaN           NaN          NaN        NaN           NaN   \n",
      "4      NaN        NaN           NaN          NaN        NaN           NaN   \n",
      "\n",
      "   construction_year  epc  area_total  \n",
      "0             2023.0  NaN       155.0  \n",
      "1             2023.0  NaN       170.0  \n",
      "2             2023.0  NaN       370.0  \n",
      "3             2023.0    B       150.0  \n",
      "4                NaN  NaN       431.0  \n",
      "\n",
      "[5 rows x 27 columns]\n"
     ]
    }
   ],
   "source": [
    "print(df.head())"
   ]
  },
  {
   "cell_type": "code",
   "execution_count": 115,
   "metadata": {},
   "outputs": [
    {
     "name": "stdout",
     "output_type": "stream",
     "text": [
      "<class 'pandas.core.frame.DataFrame'>\n",
      "RangeIndex: 30554 entries, 0 to 30553\n",
      "Data columns (total 27 columns):\n",
      " #   Column              Non-Null Count  Dtype  \n",
      "---  ------              --------------  -----  \n",
      " 0   id                  30554 non-null  int64  \n",
      " 1   city                30554 non-null  object \n",
      " 2   postal_code         30554 non-null  int64  \n",
      " 3   district            30554 non-null  object \n",
      " 4   province            30554 non-null  object \n",
      " 5   price               30554 non-null  float64\n",
      " 6   subtype             30554 non-null  object \n",
      " 7   state_construction  22609 non-null  object \n",
      " 8   living_area         30554 non-null  float64\n",
      " 9   terrace_area        8151 non-null   float64\n",
      " 10  garden_area         9442 non-null   float64\n",
      " 11  rooms               8961 non-null   float64\n",
      " 12  bedrooms            30357 non-null  float64\n",
      " 13  bathrooms           27831 non-null  float64\n",
      " 14  livingroom_surface  13661 non-null  float64\n",
      " 15  kitchen_surface     12493 non-null  float64\n",
      " 16  facades             24632 non-null  float64\n",
      " 17  has_garden          11584 non-null  float64\n",
      " 18  kitchen             18273 non-null  float64\n",
      " 19  fireplace           6066 non-null   float64\n",
      " 20  swimmingpool        1119 non-null   float64\n",
      " 21  has_terrace         16005 non-null  float64\n",
      " 22  has_attic           9142 non-null   float64\n",
      " 23  has_basement        12152 non-null  float64\n",
      " 24  construction_year   18398 non-null  float64\n",
      " 25  epc                 25069 non-null  object \n",
      " 26  area_total          30554 non-null  float64\n",
      "dtypes: float64(19), int64(2), object(6)\n",
      "memory usage: 6.3+ MB\n",
      "None\n"
     ]
    }
   ],
   "source": [
    "print(df.info())"
   ]
  },
  {
   "cell_type": "code",
   "execution_count": 116,
   "metadata": {},
   "outputs": [
    {
     "name": "stdout",
     "output_type": "stream",
     "text": [
      "                 id   postal_code         price   living_area  terrace_area  \\\n",
      "count  3.055400e+04  30554.000000  3.055400e+04  30554.000000   8151.000000   \n",
      "mean   1.096415e+07   5508.566931  4.779180e+05    210.707796     35.430254   \n",
      "std    2.478613e+05   2913.700150  5.416840e+05    199.245169     71.943267   \n",
      "min    1.882546e+06   1000.000000  2.500000e+03      7.000000      1.000000   \n",
      "25%    1.090496e+07   2812.000000  2.590000e+05    140.000000     15.000000   \n",
      "50%    1.103902e+07   5190.000000  3.690000e+05    177.000000     25.000000   \n",
      "75%    1.111201e+07   8510.000000  5.200000e+05    232.000000     40.000000   \n",
      "max    1.115769e+07   9992.000000  1.500000e+07  19772.000000   3466.000000   \n",
      "\n",
      "         garden_area        rooms      bedrooms     bathrooms  \\\n",
      "count    9442.000000  8961.000000  30357.000000  27831.000000   \n",
      "mean      854.927770     8.559313      3.504661      1.396357   \n",
      "std      4226.797493     6.059570      1.418314      0.899131   \n",
      "min         1.000000     1.000000      1.000000      1.000000   \n",
      "25%       100.000000     3.000000      3.000000      1.000000   \n",
      "50%       258.500000     8.000000      3.000000      1.000000   \n",
      "75%       651.750000    14.000000      4.000000      2.000000   \n",
      "max    190000.000000    43.000000     70.000000     25.000000   \n",
      "\n",
      "       livingroom_surface  ...       facades  has_garden  kitchen  fireplace  \\\n",
      "count        13661.000000  ...  24632.000000     11584.0  18273.0     6066.0   \n",
      "mean            40.465559  ...      3.105351         1.0      1.0        1.0   \n",
      "std            240.793498  ...      0.902669         0.0      0.0        0.0   \n",
      "min              1.000000  ...      1.000000         1.0      1.0        1.0   \n",
      "25%             25.000000  ...      2.000000         1.0      1.0        1.0   \n",
      "50%             33.000000  ...      3.000000         1.0      1.0        1.0   \n",
      "75%             41.000000  ...      4.000000         1.0      1.0        1.0   \n",
      "max          24460.000000  ...     47.000000         1.0      1.0        1.0   \n",
      "\n",
      "       swimmingpool  has_terrace  has_attic  has_basement  construction_year  \\\n",
      "count        1119.0      16005.0     9142.0       12152.0       18398.000000   \n",
      "mean            1.0          1.0        1.0           1.0        1969.054136   \n",
      "std             0.0          0.0        0.0           0.0          85.654038   \n",
      "min             1.0          1.0        1.0           1.0        1753.000000   \n",
      "25%             1.0          1.0        1.0           1.0        1946.000000   \n",
      "50%             1.0          1.0        1.0           1.0        1970.000000   \n",
      "75%             1.0          1.0        1.0           1.0        2002.000000   \n",
      "max             1.0          1.0        1.0           1.0        9999.000000   \n",
      "\n",
      "          area_total  \n",
      "count   30554.000000  \n",
      "mean     1400.142076  \n",
      "std     11028.815667  \n",
      "min         1.000000  \n",
      "25%       232.000000  \n",
      "50%       493.000000  \n",
      "75%       996.000000  \n",
      "max    950774.000000  \n",
      "\n",
      "[8 rows x 21 columns]\n"
     ]
    }
   ],
   "source": [
    "print(df.describe())"
   ]
  },
  {
   "cell_type": "code",
   "execution_count": 117,
   "metadata": {},
   "outputs": [
    {
     "name": "stdout",
     "output_type": "stream",
     "text": [
      "Duplicate rows: 0\n"
     ]
    }
   ],
   "source": [
    "print(\"Duplicate rows:\", df.duplicated().sum())"
   ]
  },
  {
   "cell_type": "code",
   "execution_count": 118,
   "metadata": {},
   "outputs": [
    {
     "name": "stdout",
     "output_type": "stream",
     "text": [
      "Missing values per column:\n",
      " id                        0\n",
      "city                      0\n",
      "postal_code               0\n",
      "district                  0\n",
      "province                  0\n",
      "price                     0\n",
      "subtype                   0\n",
      "state_construction     7945\n",
      "living_area               0\n",
      "terrace_area          22403\n",
      "garden_area           21112\n",
      "rooms                 21593\n",
      "bedrooms                197\n",
      "bathrooms              2723\n",
      "livingroom_surface    16893\n",
      "kitchen_surface       18061\n",
      "facades                5922\n",
      "has_garden            18970\n",
      "kitchen               12281\n",
      "fireplace             24488\n",
      "swimmingpool          29435\n",
      "has_terrace           14549\n",
      "has_attic             21412\n",
      "has_basement          18402\n",
      "construction_year     12156\n",
      "epc                    5485\n",
      "area_total                0\n",
      "dtype: int64\n"
     ]
    }
   ],
   "source": [
    "# Check for missing values\n",
    "print(\"Missing values per column:\\n\", df.isnull().sum())"
   ]
  },
  {
   "cell_type": "markdown",
   "metadata": {},
   "source": [
    "### Data preprocessing:"
   ]
  },
  {
   "cell_type": "code",
   "execution_count": 119,
   "metadata": {},
   "outputs": [
    {
     "name": "stdout",
     "output_type": "stream",
     "text": [
      "Index(['terrace_area', 'garden_area', 'rooms', 'livingroom_surface',\n",
      "       'kitchen_surface', 'has_garden', 'kitchen', 'fireplace', 'swimmingpool',\n",
      "       'has_terrace', 'has_attic', 'has_basement', 'construction_year'],\n",
      "      dtype='object')\n"
     ]
    },
    {
     "data": {
      "text/html": [
       "<div>\n",
       "<style scoped>\n",
       "    .dataframe tbody tr th:only-of-type {\n",
       "        vertical-align: middle;\n",
       "    }\n",
       "\n",
       "    .dataframe tbody tr th {\n",
       "        vertical-align: top;\n",
       "    }\n",
       "\n",
       "    .dataframe thead th {\n",
       "        text-align: right;\n",
       "    }\n",
       "</style>\n",
       "<table border=\"1\" class=\"dataframe\">\n",
       "  <thead>\n",
       "    <tr style=\"text-align: right;\">\n",
       "      <th></th>\n",
       "      <th>id</th>\n",
       "      <th>city</th>\n",
       "      <th>postal_code</th>\n",
       "      <th>district</th>\n",
       "      <th>province</th>\n",
       "      <th>price</th>\n",
       "      <th>subtype</th>\n",
       "      <th>state_construction</th>\n",
       "      <th>living_area</th>\n",
       "      <th>bedrooms</th>\n",
       "      <th>bathrooms</th>\n",
       "      <th>facades</th>\n",
       "      <th>epc</th>\n",
       "      <th>area_total</th>\n",
       "    </tr>\n",
       "  </thead>\n",
       "  <tbody>\n",
       "    <tr>\n",
       "      <th>0</th>\n",
       "      <td>1882546</td>\n",
       "      <td>wenduine</td>\n",
       "      <td>8420</td>\n",
       "      <td>oostend</td>\n",
       "      <td>west flanders</td>\n",
       "      <td>163000.0</td>\n",
       "      <td>CHALET</td>\n",
       "      <td>AS_NEW</td>\n",
       "      <td>62.0</td>\n",
       "      <td>2.0</td>\n",
       "      <td>1.0</td>\n",
       "      <td>4.0</td>\n",
       "      <td>NaN</td>\n",
       "      <td>155.0</td>\n",
       "    </tr>\n",
       "    <tr>\n",
       "      <th>1</th>\n",
       "      <td>2784938</td>\n",
       "      <td>heist-aan-zee</td>\n",
       "      <td>8301</td>\n",
       "      <td>brugge</td>\n",
       "      <td>west flanders</td>\n",
       "      <td>108000.0</td>\n",
       "      <td>BUNGALOW</td>\n",
       "      <td>AS_NEW</td>\n",
       "      <td>51.0</td>\n",
       "      <td>2.0</td>\n",
       "      <td>1.0</td>\n",
       "      <td>4.0</td>\n",
       "      <td>NaN</td>\n",
       "      <td>170.0</td>\n",
       "    </tr>\n",
       "    <tr>\n",
       "      <th>2</th>\n",
       "      <td>6675519</td>\n",
       "      <td>zonhoven</td>\n",
       "      <td>3520</td>\n",
       "      <td>hasselt</td>\n",
       "      <td>limburg</td>\n",
       "      <td>392422.0</td>\n",
       "      <td>HOUSE</td>\n",
       "      <td>NaN</td>\n",
       "      <td>206.0</td>\n",
       "      <td>3.0</td>\n",
       "      <td>1.0</td>\n",
       "      <td>NaN</td>\n",
       "      <td>NaN</td>\n",
       "      <td>370.0</td>\n",
       "    </tr>\n",
       "    <tr>\n",
       "      <th>3</th>\n",
       "      <td>7066131</td>\n",
       "      <td>bredene</td>\n",
       "      <td>8450</td>\n",
       "      <td>oostend</td>\n",
       "      <td>west flanders</td>\n",
       "      <td>245000.0</td>\n",
       "      <td>HOUSE</td>\n",
       "      <td>AS_NEW</td>\n",
       "      <td>76.0</td>\n",
       "      <td>2.0</td>\n",
       "      <td>1.0</td>\n",
       "      <td>4.0</td>\n",
       "      <td>B</td>\n",
       "      <td>150.0</td>\n",
       "    </tr>\n",
       "    <tr>\n",
       "      <th>4</th>\n",
       "      <td>7222190</td>\n",
       "      <td>geel</td>\n",
       "      <td>2440</td>\n",
       "      <td>turnhout</td>\n",
       "      <td>antwerp</td>\n",
       "      <td>335527.0</td>\n",
       "      <td>HOUSE</td>\n",
       "      <td>NaN</td>\n",
       "      <td>160.0</td>\n",
       "      <td>3.0</td>\n",
       "      <td>NaN</td>\n",
       "      <td>NaN</td>\n",
       "      <td>NaN</td>\n",
       "      <td>431.0</td>\n",
       "    </tr>\n",
       "  </tbody>\n",
       "</table>\n",
       "</div>"
      ],
      "text/plain": [
       "        id           city  postal_code  district       province     price  \\\n",
       "0  1882546       wenduine         8420   oostend  west flanders  163000.0   \n",
       "1  2784938  heist-aan-zee         8301    brugge  west flanders  108000.0   \n",
       "2  6675519       zonhoven         3520   hasselt        limburg  392422.0   \n",
       "3  7066131        bredene         8450   oostend  west flanders  245000.0   \n",
       "4  7222190           geel         2440  turnhout        antwerp  335527.0   \n",
       "\n",
       "    subtype state_construction  living_area  bedrooms  bathrooms  facades  \\\n",
       "0    CHALET             AS_NEW         62.0       2.0        1.0      4.0   \n",
       "1  BUNGALOW             AS_NEW         51.0       2.0        1.0      4.0   \n",
       "2     HOUSE                NaN        206.0       3.0        1.0      NaN   \n",
       "3     HOUSE             AS_NEW         76.0       2.0        1.0      4.0   \n",
       "4     HOUSE                NaN        160.0       3.0        NaN      NaN   \n",
       "\n",
       "   epc  area_total  \n",
       "0  NaN       155.0  \n",
       "1  NaN       170.0  \n",
       "2  NaN       370.0  \n",
       "3    B       150.0  \n",
       "4  NaN       431.0  "
      ]
     },
     "execution_count": 119,
     "metadata": {},
     "output_type": "execute_result"
    }
   ],
   "source": [
    "nan_df = df.isnull()\n",
    "nan_atrtribute = nan_df.sum()\n",
    "# Drop the columns that have more than 1000 missing values\n",
    "columns_to_drop = nan_atrtribute[nan_atrtribute > 10000].index\n",
    "\n",
    "df_cleaned = df.drop(columns=columns_to_drop)\n",
    "\n",
    "# Print the columns that were dropped\n",
    "print(columns_to_drop)\n",
    "df_cleaned.head()"
   ]
  },
  {
   "cell_type": "code",
   "execution_count": 120,
   "metadata": {},
   "outputs": [
    {
     "name": "stdout",
     "output_type": "stream",
     "text": [
      "id                      int64\n",
      "city                   object\n",
      "postal_code             int64\n",
      "district               object\n",
      "province               object\n",
      "price                 float64\n",
      "subtype                object\n",
      "state_construction     object\n",
      "living_area           float64\n",
      "bedrooms              float64\n",
      "bathrooms             float64\n",
      "facades               float64\n",
      "epc                    object\n",
      "area_total            float64\n",
      "dtype: object\n"
     ]
    }
   ],
   "source": [
    "print(df_cleaned.dtypes)"
   ]
  },
  {
   "cell_type": "code",
   "execution_count": 121,
   "metadata": {},
   "outputs": [
    {
     "data": {
      "text/html": [
       "<div>\n",
       "<style scoped>\n",
       "    .dataframe tbody tr th:only-of-type {\n",
       "        vertical-align: middle;\n",
       "    }\n",
       "\n",
       "    .dataframe tbody tr th {\n",
       "        vertical-align: top;\n",
       "    }\n",
       "\n",
       "    .dataframe thead th {\n",
       "        text-align: right;\n",
       "    }\n",
       "</style>\n",
       "<table border=\"1\" class=\"dataframe\">\n",
       "  <thead>\n",
       "    <tr style=\"text-align: right;\">\n",
       "      <th></th>\n",
       "      <th>count</th>\n",
       "      <th>unique</th>\n",
       "      <th>top</th>\n",
       "      <th>freq</th>\n",
       "      <th>mean</th>\n",
       "      <th>std</th>\n",
       "      <th>min</th>\n",
       "      <th>25%</th>\n",
       "      <th>50%</th>\n",
       "      <th>75%</th>\n",
       "      <th>max</th>\n",
       "    </tr>\n",
       "  </thead>\n",
       "  <tbody>\n",
       "    <tr>\n",
       "      <th>id</th>\n",
       "      <td>30554.0</td>\n",
       "      <td>NaN</td>\n",
       "      <td>NaN</td>\n",
       "      <td>NaN</td>\n",
       "      <td>10964147.361393</td>\n",
       "      <td>247861.272386</td>\n",
       "      <td>1882546.0</td>\n",
       "      <td>10904960.75</td>\n",
       "      <td>11039024.5</td>\n",
       "      <td>11112010.5</td>\n",
       "      <td>11157693.0</td>\n",
       "    </tr>\n",
       "    <tr>\n",
       "      <th>city</th>\n",
       "      <td>30554</td>\n",
       "      <td>3168</td>\n",
       "      <td>gent</td>\n",
       "      <td>351</td>\n",
       "      <td>NaN</td>\n",
       "      <td>NaN</td>\n",
       "      <td>NaN</td>\n",
       "      <td>NaN</td>\n",
       "      <td>NaN</td>\n",
       "      <td>NaN</td>\n",
       "      <td>NaN</td>\n",
       "    </tr>\n",
       "    <tr>\n",
       "      <th>postal_code</th>\n",
       "      <td>30554.0</td>\n",
       "      <td>NaN</td>\n",
       "      <td>NaN</td>\n",
       "      <td>NaN</td>\n",
       "      <td>5508.566931</td>\n",
       "      <td>2913.70015</td>\n",
       "      <td>1000.0</td>\n",
       "      <td>2812.0</td>\n",
       "      <td>5190.0</td>\n",
       "      <td>8510.0</td>\n",
       "      <td>9992.0</td>\n",
       "    </tr>\n",
       "    <tr>\n",
       "      <th>district</th>\n",
       "      <td>30554</td>\n",
       "      <td>43</td>\n",
       "      <td>antwerp</td>\n",
       "      <td>2304</td>\n",
       "      <td>NaN</td>\n",
       "      <td>NaN</td>\n",
       "      <td>NaN</td>\n",
       "      <td>NaN</td>\n",
       "      <td>NaN</td>\n",
       "      <td>NaN</td>\n",
       "      <td>NaN</td>\n",
       "    </tr>\n",
       "    <tr>\n",
       "      <th>province</th>\n",
       "      <td>30554</td>\n",
       "      <td>11</td>\n",
       "      <td>east flanders</td>\n",
       "      <td>5087</td>\n",
       "      <td>NaN</td>\n",
       "      <td>NaN</td>\n",
       "      <td>NaN</td>\n",
       "      <td>NaN</td>\n",
       "      <td>NaN</td>\n",
       "      <td>NaN</td>\n",
       "      <td>NaN</td>\n",
       "    </tr>\n",
       "    <tr>\n",
       "      <th>price</th>\n",
       "      <td>30554.0</td>\n",
       "      <td>NaN</td>\n",
       "      <td>NaN</td>\n",
       "      <td>NaN</td>\n",
       "      <td>477917.990836</td>\n",
       "      <td>541683.95801</td>\n",
       "      <td>2500.0</td>\n",
       "      <td>259000.0</td>\n",
       "      <td>369000.0</td>\n",
       "      <td>520000.0</td>\n",
       "      <td>15000000.0</td>\n",
       "    </tr>\n",
       "    <tr>\n",
       "      <th>subtype</th>\n",
       "      <td>30554</td>\n",
       "      <td>8</td>\n",
       "      <td>HOUSE</td>\n",
       "      <td>25367</td>\n",
       "      <td>NaN</td>\n",
       "      <td>NaN</td>\n",
       "      <td>NaN</td>\n",
       "      <td>NaN</td>\n",
       "      <td>NaN</td>\n",
       "      <td>NaN</td>\n",
       "      <td>NaN</td>\n",
       "    </tr>\n",
       "    <tr>\n",
       "      <th>state_construction</th>\n",
       "      <td>22609</td>\n",
       "      <td>6</td>\n",
       "      <td>GOOD</td>\n",
       "      <td>10296</td>\n",
       "      <td>NaN</td>\n",
       "      <td>NaN</td>\n",
       "      <td>NaN</td>\n",
       "      <td>NaN</td>\n",
       "      <td>NaN</td>\n",
       "      <td>NaN</td>\n",
       "      <td>NaN</td>\n",
       "    </tr>\n",
       "    <tr>\n",
       "      <th>living_area</th>\n",
       "      <td>30554.0</td>\n",
       "      <td>NaN</td>\n",
       "      <td>NaN</td>\n",
       "      <td>NaN</td>\n",
       "      <td>210.707796</td>\n",
       "      <td>199.245169</td>\n",
       "      <td>7.0</td>\n",
       "      <td>140.0</td>\n",
       "      <td>177.0</td>\n",
       "      <td>232.0</td>\n",
       "      <td>19772.0</td>\n",
       "    </tr>\n",
       "    <tr>\n",
       "      <th>bedrooms</th>\n",
       "      <td>30357.0</td>\n",
       "      <td>NaN</td>\n",
       "      <td>NaN</td>\n",
       "      <td>NaN</td>\n",
       "      <td>3.504661</td>\n",
       "      <td>1.418314</td>\n",
       "      <td>1.0</td>\n",
       "      <td>3.0</td>\n",
       "      <td>3.0</td>\n",
       "      <td>4.0</td>\n",
       "      <td>70.0</td>\n",
       "    </tr>\n",
       "    <tr>\n",
       "      <th>bathrooms</th>\n",
       "      <td>27831.0</td>\n",
       "      <td>NaN</td>\n",
       "      <td>NaN</td>\n",
       "      <td>NaN</td>\n",
       "      <td>1.396357</td>\n",
       "      <td>0.899131</td>\n",
       "      <td>1.0</td>\n",
       "      <td>1.0</td>\n",
       "      <td>1.0</td>\n",
       "      <td>2.0</td>\n",
       "      <td>25.0</td>\n",
       "    </tr>\n",
       "    <tr>\n",
       "      <th>facades</th>\n",
       "      <td>24632.0</td>\n",
       "      <td>NaN</td>\n",
       "      <td>NaN</td>\n",
       "      <td>NaN</td>\n",
       "      <td>3.105351</td>\n",
       "      <td>0.902669</td>\n",
       "      <td>1.0</td>\n",
       "      <td>2.0</td>\n",
       "      <td>3.0</td>\n",
       "      <td>4.0</td>\n",
       "      <td>47.0</td>\n",
       "    </tr>\n",
       "    <tr>\n",
       "      <th>epc</th>\n",
       "      <td>25069</td>\n",
       "      <td>12</td>\n",
       "      <td>F</td>\n",
       "      <td>5033</td>\n",
       "      <td>NaN</td>\n",
       "      <td>NaN</td>\n",
       "      <td>NaN</td>\n",
       "      <td>NaN</td>\n",
       "      <td>NaN</td>\n",
       "      <td>NaN</td>\n",
       "      <td>NaN</td>\n",
       "    </tr>\n",
       "    <tr>\n",
       "      <th>area_total</th>\n",
       "      <td>30554.0</td>\n",
       "      <td>NaN</td>\n",
       "      <td>NaN</td>\n",
       "      <td>NaN</td>\n",
       "      <td>1400.142076</td>\n",
       "      <td>11028.815667</td>\n",
       "      <td>1.0</td>\n",
       "      <td>232.0</td>\n",
       "      <td>493.0</td>\n",
       "      <td>996.0</td>\n",
       "      <td>950774.0</td>\n",
       "    </tr>\n",
       "  </tbody>\n",
       "</table>\n",
       "</div>"
      ],
      "text/plain": [
       "                      count unique            top   freq             mean  \\\n",
       "id                  30554.0    NaN            NaN    NaN  10964147.361393   \n",
       "city                  30554   3168           gent    351              NaN   \n",
       "postal_code         30554.0    NaN            NaN    NaN      5508.566931   \n",
       "district              30554     43        antwerp   2304              NaN   \n",
       "province              30554     11  east flanders   5087              NaN   \n",
       "price               30554.0    NaN            NaN    NaN    477917.990836   \n",
       "subtype               30554      8          HOUSE  25367              NaN   \n",
       "state_construction    22609      6           GOOD  10296              NaN   \n",
       "living_area         30554.0    NaN            NaN    NaN       210.707796   \n",
       "bedrooms            30357.0    NaN            NaN    NaN         3.504661   \n",
       "bathrooms           27831.0    NaN            NaN    NaN         1.396357   \n",
       "facades             24632.0    NaN            NaN    NaN         3.105351   \n",
       "epc                   25069     12              F   5033              NaN   \n",
       "area_total          30554.0    NaN            NaN    NaN      1400.142076   \n",
       "\n",
       "                              std        min          25%         50%  \\\n",
       "id                  247861.272386  1882546.0  10904960.75  11039024.5   \n",
       "city                          NaN        NaN          NaN         NaN   \n",
       "postal_code            2913.70015     1000.0       2812.0      5190.0   \n",
       "district                      NaN        NaN          NaN         NaN   \n",
       "province                      NaN        NaN          NaN         NaN   \n",
       "price                541683.95801     2500.0     259000.0    369000.0   \n",
       "subtype                       NaN        NaN          NaN         NaN   \n",
       "state_construction            NaN        NaN          NaN         NaN   \n",
       "living_area            199.245169        7.0        140.0       177.0   \n",
       "bedrooms                 1.418314        1.0          3.0         3.0   \n",
       "bathrooms                0.899131        1.0          1.0         1.0   \n",
       "facades                  0.902669        1.0          2.0         3.0   \n",
       "epc                           NaN        NaN          NaN         NaN   \n",
       "area_total           11028.815667        1.0        232.0       493.0   \n",
       "\n",
       "                           75%         max  \n",
       "id                  11112010.5  11157693.0  \n",
       "city                       NaN         NaN  \n",
       "postal_code             8510.0      9992.0  \n",
       "district                   NaN         NaN  \n",
       "province                   NaN         NaN  \n",
       "price                 520000.0  15000000.0  \n",
       "subtype                    NaN         NaN  \n",
       "state_construction         NaN         NaN  \n",
       "living_area              232.0     19772.0  \n",
       "bedrooms                   4.0        70.0  \n",
       "bathrooms                  2.0        25.0  \n",
       "facades                    4.0        47.0  \n",
       "epc                        NaN         NaN  \n",
       "area_total               996.0    950774.0  "
      ]
     },
     "execution_count": 121,
     "metadata": {},
     "output_type": "execute_result"
    }
   ],
   "source": [
    "# Transpose the data frame so that it fits in a cell\n",
    "df_cleaned.describe(include=\"all\").T"
   ]
  },
  {
   "cell_type": "code",
   "execution_count": 122,
   "metadata": {},
   "outputs": [],
   "source": [
    "def drop_specified_columns(df):\n",
    "    \"\"\"Drop specified columns.\"\"\"\n",
    "    df.drop(\n",
    "        [\"id\", \"city\", \"postal_code\", \"province\", \"subtype\", \"facades\",], axis=1, inplace=True\n",
    "    )\n",
    "    return df"
   ]
  },
  {
   "cell_type": "code",
   "execution_count": 123,
   "metadata": {},
   "outputs": [
    {
     "data": {
      "text/html": [
       "<div>\n",
       "<style scoped>\n",
       "    .dataframe tbody tr th:only-of-type {\n",
       "        vertical-align: middle;\n",
       "    }\n",
       "\n",
       "    .dataframe tbody tr th {\n",
       "        vertical-align: top;\n",
       "    }\n",
       "\n",
       "    .dataframe thead th {\n",
       "        text-align: right;\n",
       "    }\n",
       "</style>\n",
       "<table border=\"1\" class=\"dataframe\">\n",
       "  <thead>\n",
       "    <tr style=\"text-align: right;\">\n",
       "      <th></th>\n",
       "      <th>count</th>\n",
       "      <th>unique</th>\n",
       "      <th>top</th>\n",
       "      <th>freq</th>\n",
       "      <th>mean</th>\n",
       "      <th>std</th>\n",
       "      <th>min</th>\n",
       "      <th>25%</th>\n",
       "      <th>50%</th>\n",
       "      <th>75%</th>\n",
       "      <th>max</th>\n",
       "    </tr>\n",
       "  </thead>\n",
       "  <tbody>\n",
       "    <tr>\n",
       "      <th>district</th>\n",
       "      <td>30554</td>\n",
       "      <td>43</td>\n",
       "      <td>antwerp</td>\n",
       "      <td>2304</td>\n",
       "      <td>NaN</td>\n",
       "      <td>NaN</td>\n",
       "      <td>NaN</td>\n",
       "      <td>NaN</td>\n",
       "      <td>NaN</td>\n",
       "      <td>NaN</td>\n",
       "      <td>NaN</td>\n",
       "    </tr>\n",
       "    <tr>\n",
       "      <th>price</th>\n",
       "      <td>30554.0</td>\n",
       "      <td>NaN</td>\n",
       "      <td>NaN</td>\n",
       "      <td>NaN</td>\n",
       "      <td>477917.990836</td>\n",
       "      <td>541683.95801</td>\n",
       "      <td>2500.0</td>\n",
       "      <td>259000.0</td>\n",
       "      <td>369000.0</td>\n",
       "      <td>520000.0</td>\n",
       "      <td>15000000.0</td>\n",
       "    </tr>\n",
       "    <tr>\n",
       "      <th>state_construction</th>\n",
       "      <td>22609</td>\n",
       "      <td>6</td>\n",
       "      <td>GOOD</td>\n",
       "      <td>10296</td>\n",
       "      <td>NaN</td>\n",
       "      <td>NaN</td>\n",
       "      <td>NaN</td>\n",
       "      <td>NaN</td>\n",
       "      <td>NaN</td>\n",
       "      <td>NaN</td>\n",
       "      <td>NaN</td>\n",
       "    </tr>\n",
       "    <tr>\n",
       "      <th>living_area</th>\n",
       "      <td>30554.0</td>\n",
       "      <td>NaN</td>\n",
       "      <td>NaN</td>\n",
       "      <td>NaN</td>\n",
       "      <td>210.707796</td>\n",
       "      <td>199.245169</td>\n",
       "      <td>7.0</td>\n",
       "      <td>140.0</td>\n",
       "      <td>177.0</td>\n",
       "      <td>232.0</td>\n",
       "      <td>19772.0</td>\n",
       "    </tr>\n",
       "    <tr>\n",
       "      <th>bedrooms</th>\n",
       "      <td>30357.0</td>\n",
       "      <td>NaN</td>\n",
       "      <td>NaN</td>\n",
       "      <td>NaN</td>\n",
       "      <td>3.504661</td>\n",
       "      <td>1.418314</td>\n",
       "      <td>1.0</td>\n",
       "      <td>3.0</td>\n",
       "      <td>3.0</td>\n",
       "      <td>4.0</td>\n",
       "      <td>70.0</td>\n",
       "    </tr>\n",
       "    <tr>\n",
       "      <th>bathrooms</th>\n",
       "      <td>27831.0</td>\n",
       "      <td>NaN</td>\n",
       "      <td>NaN</td>\n",
       "      <td>NaN</td>\n",
       "      <td>1.396357</td>\n",
       "      <td>0.899131</td>\n",
       "      <td>1.0</td>\n",
       "      <td>1.0</td>\n",
       "      <td>1.0</td>\n",
       "      <td>2.0</td>\n",
       "      <td>25.0</td>\n",
       "    </tr>\n",
       "    <tr>\n",
       "      <th>epc</th>\n",
       "      <td>25069</td>\n",
       "      <td>12</td>\n",
       "      <td>F</td>\n",
       "      <td>5033</td>\n",
       "      <td>NaN</td>\n",
       "      <td>NaN</td>\n",
       "      <td>NaN</td>\n",
       "      <td>NaN</td>\n",
       "      <td>NaN</td>\n",
       "      <td>NaN</td>\n",
       "      <td>NaN</td>\n",
       "    </tr>\n",
       "    <tr>\n",
       "      <th>area_total</th>\n",
       "      <td>30554.0</td>\n",
       "      <td>NaN</td>\n",
       "      <td>NaN</td>\n",
       "      <td>NaN</td>\n",
       "      <td>1400.142076</td>\n",
       "      <td>11028.815667</td>\n",
       "      <td>1.0</td>\n",
       "      <td>232.0</td>\n",
       "      <td>493.0</td>\n",
       "      <td>996.0</td>\n",
       "      <td>950774.0</td>\n",
       "    </tr>\n",
       "  </tbody>\n",
       "</table>\n",
       "</div>"
      ],
      "text/plain": [
       "                      count unique      top   freq           mean  \\\n",
       "district              30554     43  antwerp   2304            NaN   \n",
       "price               30554.0    NaN      NaN    NaN  477917.990836   \n",
       "state_construction    22609      6     GOOD  10296            NaN   \n",
       "living_area         30554.0    NaN      NaN    NaN     210.707796   \n",
       "bedrooms            30357.0    NaN      NaN    NaN       3.504661   \n",
       "bathrooms           27831.0    NaN      NaN    NaN       1.396357   \n",
       "epc                   25069     12        F   5033            NaN   \n",
       "area_total          30554.0    NaN      NaN    NaN    1400.142076   \n",
       "\n",
       "                             std     min       25%       50%       75%  \\\n",
       "district                     NaN     NaN       NaN       NaN       NaN   \n",
       "price               541683.95801  2500.0  259000.0  369000.0  520000.0   \n",
       "state_construction           NaN     NaN       NaN       NaN       NaN   \n",
       "living_area           199.245169     7.0     140.0     177.0     232.0   \n",
       "bedrooms                1.418314     1.0       3.0       3.0       4.0   \n",
       "bathrooms               0.899131     1.0       1.0       1.0       2.0   \n",
       "epc                          NaN     NaN       NaN       NaN       NaN   \n",
       "area_total          11028.815667     1.0     232.0     493.0     996.0   \n",
       "\n",
       "                           max  \n",
       "district                   NaN  \n",
       "price               15000000.0  \n",
       "state_construction         NaN  \n",
       "living_area            19772.0  \n",
       "bedrooms                  70.0  \n",
       "bathrooms                 25.0  \n",
       "epc                        NaN  \n",
       "area_total            950774.0  "
      ]
     },
     "execution_count": 123,
     "metadata": {},
     "output_type": "execute_result"
    }
   ],
   "source": [
    "df=drop_specified_columns(df_cleaned)\n",
    "df.describe(include=\"all\").T"
   ]
  },
  {
   "cell_type": "code",
   "execution_count": 124,
   "metadata": {},
   "outputs": [
    {
     "data": {
      "text/plain": [
       "array([[<Axes: title={'center': 'price'}>,\n",
       "        <Axes: title={'center': 'living_area'}>],\n",
       "       [<Axes: title={'center': 'bedrooms'}>,\n",
       "        <Axes: title={'center': 'bathrooms'}>],\n",
       "       [<Axes: title={'center': 'area_total'}>, <Axes: >]], dtype=object)"
      ]
     },
     "execution_count": 124,
     "metadata": {},
     "output_type": "execute_result"
    },
    {
     "data": {
      "image/png": "[encoded data removed]",
      "text/plain": [
       "<Figure size 2000x1500 with 6 Axes>"
      ]
     },
     "metadata": {},
     "output_type": "display_data"
    }
   ],
   "source": [
    "df.hist(bins=50, figsize=(20,15))"
   ]
  },
  {
   "cell_type": "code",
   "execution_count": 125,
   "metadata": {},
   "outputs": [
    {
     "data": {
      "text/plain": [
       "Index(['district', 'price', 'state_construction', 'living_area', 'bedrooms',\n",
       "       'bathrooms', 'epc', 'area_total'],\n",
       "      dtype='object')"
      ]
     },
     "execution_count": 125,
     "metadata": {},
     "output_type": "execute_result"
    }
   ],
   "source": [
    "df.columns"
   ]
  },
  {
   "cell_type": "code",
   "execution_count": 126,
   "metadata": {},
   "outputs": [
    {
     "data": {
      "text/plain": [
       "district                 0\n",
       "price                    0\n",
       "state_construction    7945\n",
       "living_area              0\n",
       "bedrooms               197\n",
       "bathrooms             2723\n",
       "epc                   5485\n",
       "area_total               0\n",
       "dtype: int64"
      ]
     },
     "execution_count": 126,
     "metadata": {},
     "output_type": "execute_result"
    }
   ],
   "source": [
    "df.isnull().sum()"
   ]
  },
  {
   "cell_type": "code",
   "execution_count": 131,
   "metadata": {},
   "outputs": [],
   "source": [
    "df.dropna(subset=['bedrooms'], inplace=True)\n",
    "df['bathrooms'] = df['bathrooms'].fillna(1)"
   ]
  },
  {
   "cell_type": "code",
   "execution_count": 135,
   "metadata": {},
   "outputs": [],
   "source": [
    "from sklearn.preprocessing import OneHotEncoder\n"
   ]
  },
  {
   "cell_type": "code",
   "execution_count": 137,
   "metadata": {},
   "outputs": [
    {
     "data": {
      "text/plain": [
       "<bound method NDFrame.head of           district     price state_construction  living_area  bedrooms  \\\n",
       "0          oostend  163000.0             AS_NEW         62.0       2.0   \n",
       "1           brugge  108000.0             AS_NEW         51.0       2.0   \n",
       "2          hasselt  392422.0                NaN        206.0       3.0   \n",
       "3          oostend  245000.0             AS_NEW         76.0       2.0   \n",
       "4         turnhout  335527.0                NaN        160.0       3.0   \n",
       "...            ...       ...                ...          ...       ...   \n",
       "30549      antwerp  499000.0     JUST_RENOVATED        293.0       8.0   \n",
       "30550      antwerp  535000.0      TO_BE_DONE_UP        201.0       3.0   \n",
       "30551      antwerp  569000.0               GOOD        155.0       3.0   \n",
       "30552      antwerp  429000.0               GOOD        143.0       3.0   \n",
       "30553  dendermonde  395000.0             AS_NEW        170.0       3.0   \n",
       "\n",
       "       bathrooms  epc  area_total  \n",
       "0            1.0  NaN       155.0  \n",
       "1            1.0  NaN       170.0  \n",
       "2            1.0  NaN       370.0  \n",
       "3            1.0    B       150.0  \n",
       "4            1.0  NaN       431.0  \n",
       "...          ...  ...         ...  \n",
       "30549        1.0    E       435.0  \n",
       "30550        2.0    D       630.0  \n",
       "30551        1.0    B       623.0  \n",
       "30552        1.0    D       282.0  \n",
       "30553        1.0  NaN       418.0  \n",
       "\n",
       "[30357 rows x 8 columns]>"
      ]
     },
     "execution_count": 137,
     "metadata": {},
     "output_type": "execute_result"
    }
   ],
   "source": [
    "df.head"
   ]
  },
  {
   "cell_type": "code",
   "execution_count": 136,
   "metadata": {},
   "outputs": [
    {
     "data": {
      "text/plain": [
       "district                 0\n",
       "price                    0\n",
       "state_construction    7858\n",
       "living_area              0\n",
       "bedrooms                 0\n",
       "bathrooms                0\n",
       "epc                   5421\n",
       "area_total               0\n",
       "dtype: int64"
      ]
     },
     "execution_count": 136,
     "metadata": {},
     "output_type": "execute_result"
    }
   ],
   "source": [
    "df.isnull().sum()"
   ]
  },
  {
   "cell_type": "code",
   "execution_count": 140,
   "metadata": {},
   "outputs": [
    {
     "data": {
      "image/png": "[encoded data removed]",
      "text/plain": [
       "<Figure size 640x480 with 1 Axes>"
      ]
     },
     "metadata": {},
     "output_type": "display_data"
    }
   ],
   "source": [
    "import seaborn as sns\n",
    "import matplotlib.pyplot as plt\n",
    "\n",
    "# Create a box plot for the 'price' column\n",
    "sns.boxplot(x=df['price'])\n",
    "plt.title('Box Plot of Prices')\n",
    "plt.show()"
   ]
  },
  {
   "cell_type": "code",
   "execution_count": 142,
   "metadata": {},
   "outputs": [
    {
     "name": "stdout",
     "output_type": "stream",
     "text": [
      "Number of outliers detected: 1953\n",
      "-132500.0 911500.0\n"
     ]
    }
   ],
   "source": [
    "# Calculate Q1, Q3, and IQR\n",
    "Q1 = df['price'].quantile(0.25)\n",
    "Q3 = df['price'].quantile(0.75)\n",
    "IQR = Q3 - Q1\n",
    "\n",
    "# Define bounds for outliers\n",
    "lower_bound = Q1 - 1.5 * IQR\n",
    "upper_bound = Q3 + 1.5 * IQR\n",
    "\n",
    "# Identify outliers\n",
    "outliers = df[(df['price'] < lower_bound) | (df['price'] > upper_bound)]\n",
    "\n",
    "print(f\"Number of outliers detected: {len(outliers)}\")\n",
    "print(lower_bound, upper_bound)"
   ]
  },
  {
   "cell_type": "code",
   "execution_count": 144,
   "metadata": {},
   "outputs": [
    {
     "data": {
      "text/plain": [
       "2500.0"
      ]
     },
     "execution_count": 144,
     "metadata": {},
     "output_type": "execute_result"
    }
   ],
   "source": [
    "df['price'].min()"
   ]
  },
  {
   "cell_type": "code",
   "execution_count": 151,
   "metadata": {},
   "outputs": [
    {
     "data": {
      "text/plain": [
       "(28744, 8)"
      ]
     },
     "execution_count": 151,
     "metadata": {},
     "output_type": "execute_result"
    }
   ],
   "source": [
    "# Filter the DataFrame to keep only rows where 'price' is within the specified range\n",
    "df = df[(df['price'] >= 40000) & (df['price'] <= 1000000)]\n",
    "df.shape"
   ]
  },
  {
   "cell_type": "code",
   "execution_count": 152,
   "metadata": {},
   "outputs": [
    {
     "data": {
      "image/png": "[encoded data removed]",
      "text/plain": [
       "<Figure size 640x480 with 1 Axes>"
      ]
     },
     "metadata": {},
     "output_type": "display_data"
    }
   ],
   "source": [
    "import seaborn as sns\n",
    "import matplotlib.pyplot as plt\n",
    "\n",
    "# Create a box plot for the 'price' column\n",
    "sns.boxplot(x=df['living_area'])\n",
    "plt.title('Box Plot of Living area')\n",
    "plt.show()"
   ]
  },
  {
   "cell_type": "code",
   "execution_count": 156,
   "metadata": {},
   "outputs": [
    {
     "name": "stdout",
     "output_type": "stream",
     "text": [
      "Number of outliers detected: 1582\n",
      "20.0 340.0\n"
     ]
    }
   ],
   "source": [
    "# Calculate Q1, Q3, and IQR\n",
    "Q1 = df['living_area'].quantile(0.25)\n",
    "Q3 = df['living_area'].quantile(0.75)\n",
    "IQR = Q3 - Q1\n",
    "\n",
    "# Define bounds for outliers\n",
    "lower_bound_area = Q1 - 1.5 * IQR\n",
    "upper_bound_area = Q3 + 1.5 * IQR\n",
    "\n",
    "# Identify outliers\n",
    "outliers = df[(df['living_area'] < lower_bound_area) | (df['living_area'] > upper_bound_area)]\n",
    "\n",
    "print(f\"Number of outliers detected: {len(outliers)}\")\n",
    "print(lower_bound_area, upper_bound_area)"
   ]
  },
  {
   "cell_type": "code",
   "execution_count": 158,
   "metadata": {},
   "outputs": [],
   "source": [
    "df = df[(df['living_area'] >= lower_bound_area) &\n",
    "                 (df['living_area'] <= upper_bound_area)]"
   ]
  },
  {
   "cell_type": "code",
   "execution_count": 159,
   "metadata": {},
   "outputs": [
    {
     "data": {
      "text/plain": [
       "(27162, 8)"
      ]
     },
     "execution_count": 159,
     "metadata": {},
     "output_type": "execute_result"
    }
   ],
   "source": [
    "df.shape"
   ]
  },
  {
   "cell_type": "code",
   "execution_count": 160,
   "metadata": {},
   "outputs": [
    {
     "data": {
      "text/plain": [
       "district                 0\n",
       "price                    0\n",
       "state_construction    7097\n",
       "living_area              0\n",
       "bedrooms                 0\n",
       "bathrooms                0\n",
       "epc                   5078\n",
       "area_total               0\n",
       "dtype: int64"
      ]
     },
     "execution_count": 160,
     "metadata": {},
     "output_type": "execute_result"
    }
   ],
   "source": [
    "df.isnull().sum()"
   ]
  },
  {
   "cell_type": "code",
   "execution_count": 162,
   "metadata": {},
   "outputs": [
    {
     "data": {
      "text/plain": [
       "array(['AS_NEW', nan, 'GOOD', 'JUST_RENOVATED', 'TO_RENOVATE',\n",
       "       'TO_BE_DONE_UP', 'TO_RESTORE'], dtype=object)"
      ]
     },
     "execution_count": 162,
     "metadata": {},
     "output_type": "execute_result"
    }
   ],
   "source": [
    "df.state_construction.unique()"
   ]
  },
  {
   "cell_type": "code",
   "execution_count": 128,
   "metadata": {},
   "outputs": [
    {
     "data": {
      "text/plain": [
       "state_construction\n",
       "GOOD              10296\n",
       "AS_NEW             4493\n",
       "TO_RENOVATE        3914\n",
       "TO_BE_DONE_UP      2587\n",
       "JUST_RENOVATED     1079\n",
       "TO_RESTORE          240\n",
       "Name: count, dtype: int64"
      ]
     },
     "execution_count": 128,
     "metadata": {},
     "output_type": "execute_result"
    }
   ],
   "source": [
    "df['state_construction'].value_counts()"
   ]
  },
  {
   "cell_type": "code",
   "execution_count": 78,
   "metadata": {},
   "outputs": [
    {
     "data": {
      "text/plain": [
       "bathrooms\n",
       "1.0     20291\n",
       "2.0      5658\n",
       "3.0      1148\n",
       "4.0       386\n",
       "5.0       168\n",
       "6.0        84\n",
       "7.0        31\n",
       "8.0        21\n",
       "10.0       10\n",
       "9.0        10\n",
       "12.0        6\n",
       "11.0        5\n",
       "13.0        3\n",
       "15.0        2\n",
       "14.0        2\n",
       "20.0        1\n",
       "16.0        1\n",
       "23.0        1\n",
       "18.0        1\n",
       "25.0        1\n",
       "22.0        1\n",
       "Name: count, dtype: int64"
      ]
     },
     "execution_count": 78,
     "metadata": {},
     "output_type": "execute_result"
    }
   ],
   "source": [
    "df['bathrooms'].value_counts()"
   ]
  },
  {
   "cell_type": "code",
   "execution_count": 47,
   "metadata": {},
   "outputs": [
    {
     "data": {
      "text/plain": [
       "array([nan, 'B', 'E', 'A', 'C', 'F', 'G', 'D', 'A++', 'A+_A++', 'A+',\n",
       "       'A_A+', 'F_E'], dtype=object)"
      ]
     },
     "execution_count": 47,
     "metadata": {},
     "output_type": "execute_result"
    }
   ],
   "source": [
    "df.epc.unique()"
   ]
  },
  {
   "cell_type": "code",
   "execution_count": 55,
   "metadata": {},
   "outputs": [
    {
     "data": {
      "text/plain": [
       "epc\n",
       "F         5033\n",
       "C         4635\n",
       "D         4562\n",
       "B         3533\n",
       "E         3422\n",
       "G         1821\n",
       "A         1591\n",
       "A+         303\n",
       "A++        163\n",
       "A+_A++       3\n",
       "A_A+         2\n",
       "F_E          1\n",
       "Name: count, dtype: int64"
      ]
     },
     "execution_count": 55,
     "metadata": {},
     "output_type": "execute_result"
    }
   ],
   "source": [
    "df['epc'].value_counts()"
   ]
  },
  {
   "cell_type": "code",
   "execution_count": 41,
   "metadata": {},
   "outputs": [
    {
     "data": {
      "text/html": [
       "<div>\n",
       "<style scoped>\n",
       "    .dataframe tbody tr th:only-of-type {\n",
       "        vertical-align: middle;\n",
       "    }\n",
       "\n",
       "    .dataframe tbody tr th {\n",
       "        vertical-align: top;\n",
       "    }\n",
       "\n",
       "    .dataframe thead th {\n",
       "        text-align: right;\n",
       "    }\n",
       "</style>\n",
       "<table border=\"1\" class=\"dataframe\">\n",
       "  <thead>\n",
       "    <tr style=\"text-align: right;\">\n",
       "      <th></th>\n",
       "      <th>price</th>\n",
       "      <th>living_area</th>\n",
       "      <th>bedrooms</th>\n",
       "      <th>bathrooms</th>\n",
       "      <th>area_total</th>\n",
       "    </tr>\n",
       "  </thead>\n",
       "  <tbody>\n",
       "    <tr>\n",
       "      <th>price</th>\n",
       "      <td>1.000000</td>\n",
       "      <td>0.432517</td>\n",
       "      <td>0.381194</td>\n",
       "      <td>0.510769</td>\n",
       "      <td>0.161336</td>\n",
       "    </tr>\n",
       "    <tr>\n",
       "      <th>living_area</th>\n",
       "      <td>0.432517</td>\n",
       "      <td>1.000000</td>\n",
       "      <td>0.459353</td>\n",
       "      <td>0.384144</td>\n",
       "      <td>0.112839</td>\n",
       "    </tr>\n",
       "    <tr>\n",
       "      <th>bedrooms</th>\n",
       "      <td>0.381194</td>\n",
       "      <td>0.459353</td>\n",
       "      <td>1.000000</td>\n",
       "      <td>0.589382</td>\n",
       "      <td>0.096024</td>\n",
       "    </tr>\n",
       "    <tr>\n",
       "      <th>bathrooms</th>\n",
       "      <td>0.510769</td>\n",
       "      <td>0.384144</td>\n",
       "      <td>0.589382</td>\n",
       "      <td>1.000000</td>\n",
       "      <td>0.080275</td>\n",
       "    </tr>\n",
       "    <tr>\n",
       "      <th>area_total</th>\n",
       "      <td>0.161336</td>\n",
       "      <td>0.112839</td>\n",
       "      <td>0.096024</td>\n",
       "      <td>0.080275</td>\n",
       "      <td>1.000000</td>\n",
       "    </tr>\n",
       "  </tbody>\n",
       "</table>\n",
       "</div>"
      ],
      "text/plain": [
       "                price  living_area  bedrooms  bathrooms  area_total\n",
       "price        1.000000     0.432517  0.381194   0.510769    0.161336\n",
       "living_area  0.432517     1.000000  0.459353   0.384144    0.112839\n",
       "bedrooms     0.381194     0.459353  1.000000   0.589382    0.096024\n",
       "bathrooms    0.510769     0.384144  0.589382   1.000000    0.080275\n",
       "area_total   0.161336     0.112839  0.096024   0.080275    1.000000"
      ]
     },
     "execution_count": 41,
     "metadata": {},
     "output_type": "execute_result"
    }
   ],
   "source": [
    "numerical_cols = ['price', 'living_area',\n",
    "                  'bedrooms', 'bathrooms', 'area_total']\n",
    "df_numerical = df[numerical_cols]\n",
    "\n",
    "# Calculate the correlation matrix\n",
    "correlation_matrix = df_numerical.corr()\n",
    "correlation_matrix"
   ]
  },
  {
   "cell_type": "code",
   "execution_count": 50,
   "metadata": {},
   "outputs": [
    {
     "name": "stdout",
     "output_type": "stream",
     "text": [
      "Missing values per column:\n",
      " province                 0\n",
      "price                    0\n",
      "state_construction    7945\n",
      "living_area              0\n",
      "bedrooms               197\n",
      "bathrooms             2723\n",
      "epc                   5485\n",
      "area_total               0\n",
      "dtype: int64\n"
     ]
    }
   ],
   "source": [
    "print(\"Missing values per column:\\n\", df.isnull().sum())"
   ]
  },
  {
   "cell_type": "code",
   "execution_count": 79,
   "metadata": {},
   "outputs": [
    {
     "data": {
      "text/plain": [
       "30554"
      ]
     },
     "execution_count": 79,
     "metadata": {},
     "output_type": "execute_result"
    }
   ],
   "source": []
  }
 ],
 "metadata": {
  "kernelspec": {
   "display_name": "ml_env",
   "language": "python",
   "name": "python3"
  },
  "language_info": {
   "codemirror_mode": {
    "name": "ipython",
    "version": 3
   },
   "file_extension": ".py",
   "mimetype": "text/x-python",
   "name": "python",
   "nbconvert_exporter": "python",
   "pygments_lexer": "ipython3",
   "version": "3.11.8"
  }
 },
 "nbformat": 4,
 "nbformat_minor": 2
}
